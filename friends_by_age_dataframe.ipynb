{
 "cells": [
  {
   "cell_type": "markdown",
   "metadata": {},
   "source": [
    "Init"
   ]
  },
  {
   "cell_type": "code",
   "execution_count": 1,
   "metadata": {},
   "outputs": [
    {
     "name": "stdout",
     "output_type": "stream",
     "text": [
      "+---+----------------------+\n",
      "|AGE|AVERAGE_FRIENDS_AMOUNT|\n",
      "+---+----------------------+\n",
      "| 18|                   343|\n",
      "| 19|                   213|\n",
      "| 20|                   165|\n",
      "| 21|                   350|\n",
      "| 22|                   206|\n",
      "| 23|                   246|\n",
      "| 24|                   233|\n",
      "| 25|                   197|\n",
      "| 26|                   242|\n",
      "| 27|                   228|\n",
      "| 28|                   209|\n",
      "| 29|                   215|\n",
      "| 30|                   235|\n",
      "| 31|                   267|\n",
      "| 32|                   207|\n",
      "| 33|                   325|\n",
      "| 34|                   245|\n",
      "| 35|                   211|\n",
      "| 36|                   246|\n",
      "| 37|                   249|\n",
      "+---+----------------------+\n",
      "only showing top 20 rows\n",
      "\n"
     ]
    }
   ],
   "source": [
    "from pyspark.sql import SparkSession\n",
    "\n",
    "spark = SparkSession.builder.appName(\"SparkSQL\").getOrCreate()\n",
    "\n",
    "people = spark.read.option(\"header\", \"true\").option(\"inferSchema\", \"true\")\\\n",
    "    .csv(\"./work/data/fakefriends-header.csv\")\n",
    "\n",
    "people.createOrReplaceTempView(\"people\")\n",
    "\n",
    "averagesByAge = spark.sql(\"\"\"\n",
    "    SELECT AGE, INT(AVG(FRIENDS)) AS AVERAGE_FRIENDS_AMOUNT\n",
    "    FROM PEOPLE\n",
    "    GROUP BY AGE\n",
    "    SORT BY AGE ASC\n",
    "\"\"\")\n",
    "\n",
    "averagesByAge.show()\n",
    "\n",
    "spark.stop()"
   ]
  }
 ],
 "metadata": {
  "kernelspec": {
   "display_name": "Python 3 (ipykernel)",
   "language": "python",
   "name": "python3"
  },
  "language_info": {
   "codemirror_mode": {
    "name": "ipython",
    "version": 3
   },
   "file_extension": ".py",
   "mimetype": "text/x-python",
   "name": "python",
   "nbconvert_exporter": "python",
   "pygments_lexer": "ipython3",
   "version": "3.10.5"
  },
  "orig_nbformat": 4
 },
 "nbformat": 4,
 "nbformat_minor": 2
}
