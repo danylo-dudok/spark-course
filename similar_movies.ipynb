{
 "cells": [
  {
   "cell_type": "markdown",
   "metadata": {},
   "source": [
    "Constants"
   ]
  },
  {
   "cell_type": "code",
   "execution_count": 4,
   "metadata": {},
   "outputs": [],
   "source": [
    "scoreThreshold = 0.97\n",
    "coOccurrenceThreshold = 50.0\n",
    "movieID = 50 # star wars"
   ]
  },
  {
   "cell_type": "markdown",
   "metadata": {},
   "source": [
    "Imports"
   ]
  },
  {
   "cell_type": "code",
   "execution_count": 5,
   "metadata": {},
   "outputs": [],
   "source": [
    "from pyspark.sql import SparkSession\n",
    "from pyspark.sql import functions as func\n",
    "from pyspark.sql.types import StructType, StructField, StringType, IntegerType, LongType"
   ]
  },
  {
   "cell_type": "markdown",
   "metadata": {},
   "source": [
    "Cosine Similarity"
   ]
  },
  {
   "cell_type": "code",
   "execution_count": 6,
   "metadata": {},
   "outputs": [],
   "source": [
    "def computeCosineSimilarity(spark, data):\n",
    "    # Compute xx, xy and yy columns\n",
    "    pairScores = data \\\n",
    "      .withColumn(\"xx\", func.col(\"rating1\") * func.col(\"rating1\")) \\\n",
    "      .withColumn(\"yy\", func.col(\"rating2\") * func.col(\"rating2\")) \\\n",
    "      .withColumn(\"xy\", func.col(\"rating1\") * func.col(\"rating2\")) \n",
    "\n",
    "    # Compute numerator, denominator and numPairs columns\n",
    "    calculateSimilarity = pairScores \\\n",
    "      .groupBy(\"movie1\", \"movie2\") \\\n",
    "      .agg( \\\n",
    "        func.sum(func.col(\"xy\")).alias(\"numerator\"), \\\n",
    "        (func.sqrt(func.sum(func.col(\"xx\"))) * func.sqrt(func.sum(func.col(\"yy\")))).alias(\"denominator\"), \\\n",
    "        func.count(func.col(\"xy\")).alias(\"numPairs\")\n",
    "      )\n",
    "\n",
    "    # Calculate score and select only needed columns (movie1, movie2, score, numPairs)\n",
    "    result = calculateSimilarity \\\n",
    "      .withColumn(\"score\", \\\n",
    "        func.when(func.col(\"denominator\") != 0, func.col(\"numerator\") / func.col(\"denominator\")) \\\n",
    "          .otherwise(0) \\\n",
    "      ).select(\"movie1\", \"movie2\", \"score\", \"numPairs\")\n",
    "\n",
    "    return result"
   ]
  },
  {
   "cell_type": "markdown",
   "metadata": {},
   "source": [
    "Output result"
   ]
  },
  {
   "cell_type": "code",
   "execution_count": 7,
   "metadata": {},
   "outputs": [],
   "source": [
    "# Get movie name by given movie id \n",
    "def getMovieName(movieNames, movieId):\n",
    "    result = movieNames.filter(func.col(\"movieID\") == movieId) \\\n",
    "        .select(\"movieTitle\").collect()[0]\n",
    "\n",
    "    return result[0]\n",
    "\n",
    "def outputResult(names, id):\n",
    "    print (\"Top 10 similar movies for \" + getMovieName(names, id))\n",
    "\n",
    "    for result in results:\n",
    "        # Display the similarity result that isn't the movie we're looking at\n",
    "        similarMovieID = result.movie1\n",
    "        if (similarMovieID == id):\n",
    "            similarMovieID = result.movie2\n",
    "        \n",
    "        print(getMovieName(names, similarMovieID) + \"\\tscore: \" \\\n",
    "                + str(result.score) + \"\\tstrength: \" + str(result.numPairs))"
   ]
  },
  {
   "cell_type": "markdown",
   "metadata": {},
   "source": [
    "Schema"
   ]
  },
  {
   "cell_type": "code",
   "execution_count": 8,
   "metadata": {},
   "outputs": [],
   "source": [
    "movieNamesSchema = StructType([ \\\n",
    "                               StructField(\"movieID\", IntegerType(), True), \\\n",
    "                               StructField(\"movieTitle\", StringType(), True) \\\n",
    "                               ])\n",
    "    \n",
    "moviesSchema = StructType([ \\\n",
    "                     StructField(\"userID\", IntegerType(), True), \\\n",
    "                     StructField(\"movieID\", IntegerType(), True), \\\n",
    "                     StructField(\"rating\", IntegerType(), True), \\\n",
    "                     StructField(\"timestamp\", LongType(), True)])"
   ]
  },
  {
   "cell_type": "markdown",
   "metadata": {},
   "source": [
    "Reading files"
   ]
  },
  {
   "cell_type": "code",
   "execution_count": 9,
   "metadata": {},
   "outputs": [],
   "source": [
    "spark = SparkSession.builder.appName(\"MovieSimilarities\").master(\"local[*]\").getOrCreate()\n",
    "\n",
    "# Create a broadcast dataset of movieID and movieTitle.\n",
    "# Apply ISO-885901 charset\n",
    "movieNames = spark.read \\\n",
    "      .option(\"sep\", \"|\") \\\n",
    "      .option(\"charset\", \"ISO-8859-1\") \\\n",
    "      .schema(movieNamesSchema) \\\n",
    "      .csv(\"./work/data/ml-100k/u.item\")\n",
    "\n",
    "# Load up movie data as dataset\n",
    "movies = spark.read \\\n",
    "      .option(\"sep\", \"\\t\") \\\n",
    "      .schema(moviesSchema) \\\n",
    "      .csv(\"./work/data/ml-100k/u.data\")"
   ]
  },
  {
   "cell_type": "markdown",
   "metadata": {},
   "source": [
    "Self join"
   ]
  },
  {
   "cell_type": "code",
   "execution_count": 10,
   "metadata": {},
   "outputs": [],
   "source": [
    "ratings = movies.select(\"userId\", \"movieId\", \"rating\")\n",
    "\n",
    "# Emit every movie rated together by the same user.\n",
    "# Self-join to find every combination.\n",
    "# Select movie pairs and rating pairs\n",
    "moviePairs = ratings.alias(\"ratings1\") \\\n",
    "      .join(ratings.alias(\"ratings2\"), (func.col(\"ratings1.userId\") == func.col(\"ratings2.userId\")) \\\n",
    "            & (func.col(\"ratings1.movieId\") < func.col(\"ratings2.movieId\"))) \\\n",
    "      .select(func.col(\"ratings1.movieId\").alias(\"movie1\"), \\\n",
    "        func.col(\"ratings2.movieId\").alias(\"movie2\"), \\\n",
    "        func.col(\"ratings1.rating\").alias(\"rating1\"), \\\n",
    "        func.col(\"ratings2.rating\").alias(\"rating2\"))"
   ]
  },
  {
   "cell_type": "markdown",
   "metadata": {},
   "source": [
    "Computing similarities and filtering movies by id and threadholds (score & coOccurence)"
   ]
  },
  {
   "cell_type": "code",
   "execution_count": 11,
   "metadata": {},
   "outputs": [],
   "source": [
    "\n",
    "moviePairSimilarities = computeCosineSimilarity(spark, moviePairs).cache()\n",
    "\n",
    "# Filter for movies with this sim that are \"good\" as defined by\n",
    "# our quality thresholds above\n",
    "filteredResults = moviePairSimilarities.filter( \\\n",
    "    ((func.col(\"movie1\") == movieID) | (func.col(\"movie2\") == movieID)) & \\\n",
    "        (func.col(\"score\") > scoreThreshold) & (func.col(\"numPairs\") > coOccurrenceThreshold))"
   ]
  },
  {
   "cell_type": "markdown",
   "metadata": {},
   "source": [
    "Resulting"
   ]
  },
  {
   "cell_type": "code",
   "execution_count": 12,
   "metadata": {},
   "outputs": [
    {
     "name": "stdout",
     "output_type": "stream",
     "text": [
      "Top 10 similar movies for Star Wars (1977)\n",
      "Empire Strikes Back, The (1980)\tscore: 0.9895522078385338\tstrength: 345\n",
      "Return of the Jedi (1983)\tscore: 0.9857230861253026\tstrength: 480\n",
      "Raiders of the Lost Ark (1981)\tscore: 0.981760098872619\tstrength: 380\n",
      "20,000 Leagues Under the Sea (1954)\tscore: 0.9789385605497993\tstrength: 68\n",
      "12 Angry Men (1957)\tscore: 0.9776576120448436\tstrength: 109\n",
      "Close Shave, A (1995)\tscore: 0.9775948291054827\tstrength: 92\n",
      "African Queen, The (1951)\tscore: 0.9764692222674887\tstrength: 138\n",
      "Sting, The (1973)\tscore: 0.9751512937740359\tstrength: 204\n",
      "Wrong Trousers, The (1993)\tscore: 0.9748681355460885\tstrength: 103\n",
      "Wallace & Gromit: The Best of Aardman Animation (1996)\tscore: 0.9741816128302572\tstrength: 58\n"
     ]
    }
   ],
   "source": [
    "# Sort by quality score.\n",
    "results = filteredResults.sort(func.col(\"score\").desc()).take(10)\n",
    "\n",
    "outputResult(movieNames, movieID)\n",
    "\n",
    "spark.stop()"
   ]
  }
 ],
 "metadata": {
  "kernelspec": {
   "display_name": "Python 3 (ipykernel)",
   "language": "python",
   "name": "python3"
  },
  "language_info": {
   "codemirror_mode": {
    "name": "ipython",
    "version": 3
   },
   "file_extension": ".py",
   "mimetype": "text/x-python",
   "name": "python",
   "nbconvert_exporter": "python",
   "pygments_lexer": "ipython3",
   "version": "3.10.5"
  },
  "orig_nbformat": 4
 },
 "nbformat": 4,
 "nbformat_minor": 2
}
