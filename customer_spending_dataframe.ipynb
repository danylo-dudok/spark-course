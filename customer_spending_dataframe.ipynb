{
 "cells": [
  {
   "cell_type": "code",
   "execution_count": 10,
   "metadata": {},
   "outputs": [
    {
     "name": "stdout",
     "output_type": "stream",
     "text": [
      "root\n",
      " |-- customerID: integer (nullable = true)\n",
      " |-- itemID: integer (nullable = true)\n",
      " |-- amount: float (nullable = true)\n",
      "\n",
      "+----------+------------+\n",
      "|customerID|amount_spent|\n",
      "+----------+------------+\n",
      "|        68|     6375.45|\n",
      "|        73|      6206.2|\n",
      "|        39|     6193.11|\n",
      "|        54|     6065.39|\n",
      "|        71|     5995.66|\n",
      "|         2|     5994.59|\n",
      "|        97|     5977.19|\n",
      "|        46|     5963.11|\n",
      "|        42|     5696.84|\n",
      "|        59|     5642.89|\n",
      "|        41|     5637.62|\n",
      "|         0|     5524.95|\n",
      "|         8|     5517.24|\n",
      "|        85|     5503.43|\n",
      "|        61|     5497.48|\n",
      "|        32|     5496.05|\n",
      "|        58|     5437.73|\n",
      "|        63|     5415.15|\n",
      "|        15|     5413.51|\n",
      "|         6|     5397.88|\n",
      "+----------+------------+\n",
      "only showing top 20 rows\n",
      "\n"
     ]
    }
   ],
   "source": [
    "from pyspark.sql import SparkSession\n",
    "from pyspark.sql import functions as func\n",
    "from pyspark.sql.types import StructType, StructField, StringType, IntegerType, FloatType\n",
    "\n",
    "spark = SparkSession.builder.appName(\"CustomerSpendigs\").getOrCreate()\n",
    "\n",
    "schema = StructType([ \\\n",
    "                     StructField(\"customerID\", IntegerType(), True), \\\n",
    "                     StructField(\"itemID\", IntegerType(), True), \\\n",
    "                     StructField(\"amount\", FloatType(), True)])\n",
    "\n",
    "# // Read the file as dataframe\n",
    "df = spark.read.schema(schema).csv(\"./work/data/customer-orders.csv\")\n",
    "df.printSchema()\n",
    "\n",
    "spendings = (df\n",
    "    .select(\"customerID\", \"amount\")\n",
    "    .groupBy(\"customerID\")\n",
    "    .sum(\"amount\")\n",
    "    .select(func.col(\"customerID\"), func.round(\"sum(amount)\", 2).alias(\"amount_spent\"))\n",
    "    .orderBy(\"amount_spent\", ascending=False))\n",
    "\n",
    "spendings.show()\n",
    "\n",
    "spark.stop()"
   ]
  }
 ],
 "metadata": {
  "kernelspec": {
   "display_name": "Python 3 (ipykernel)",
   "language": "python",
   "name": "python3"
  },
  "language_info": {
   "codemirror_mode": {
    "name": "ipython",
    "version": 3
   },
   "file_extension": ".py",
   "mimetype": "text/x-python",
   "name": "python",
   "nbconvert_exporter": "python",
   "pygments_lexer": "ipython3",
   "version": "3.10.5"
  },
  "orig_nbformat": 4
 },
 "nbformat": 4,
 "nbformat_minor": 2
}
